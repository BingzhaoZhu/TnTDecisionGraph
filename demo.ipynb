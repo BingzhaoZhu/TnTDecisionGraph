{
 "cells": [
  {
   "cell_type": "code",
   "execution_count": 7,
   "id": "f1080d26",
   "metadata": {},
   "outputs": [],
   "source": [
    "# load dataset\n",
    "import tensorflow as tf\n",
    "(x_train, y_train), (x_test, y_test) = tf.keras.datasets.mnist.load_data()\n",
    "x_train=x_train.reshape(x_train.shape[0], -1)\n",
    "x_test=x_test.reshape(x_test.shape[0], -1)"
   ]
  },
  {
   "cell_type": "markdown",
   "id": "5eb29269",
   "metadata": {},
   "source": [
    "## Performance of TnT\n",
    "\n",
    "This code takes ~5 mins to run. To reduce runtime, use greater ccp_alpha values (1e-3/1e-2).\n",
    "\n",
    "Console should print the following results:\n",
    "\n",
    "    TnT accuracy (train set): 0.9591\n",
    "    TnT accuracy (test set): 0.9037\n",
    "    TnT model complexity:  1019  internal nodes,  635  leaf nodes"
   ]
  },
  {
   "cell_type": "code",
   "execution_count": 7,
   "id": "9778ee29",
   "metadata": {},
   "outputs": [
    {
     "name": "stdout",
     "output_type": "stream",
     "text": [
      "TnT accuracy (train set): 0.9611166666666666\n",
      "TnT accuracy (test set): 0.9063\n",
      "TnT model complexity:  1020  internal nodes,  619  leaf nodes\n"
     ]
    }
   ],
   "source": [
    "from TreeInTree import TnT\n",
    "from sklearn.metrics import accuracy_score\n",
    "tnt = TnT(N1=2, N2=5, ccp_alpha=1e-4, random_state=0)\n",
    "tnt.fit(x_train, y_train)\n",
    "prediction_train = tnt.predict(teX=x_train)\n",
    "accuracy_train = accuracy_score(y_train, prediction_train)\n",
    "print(\"TnT accuracy (train set):\", accuracy_train)\n",
    "prediction_test = tnt.predict(teX=x_test)\n",
    "accuracy_test = accuracy_score(y_test, prediction_test)\n",
    "print(\"TnT accuracy (test set):\", accuracy_test)\n",
    "i, l = tnt.check_complexity()\n",
    "print(\"TnT model complexity: \", i, \" internal nodes, \", l, \" leaf nodes\")"
   ]
  },
  {
   "cell_type": "markdown",
   "id": "bce609be",
   "metadata": {},
   "source": [
    "## Visualization of TnT\n",
    "\n",
    "Visualize TnT as a directed graph using \"sknetwork\". To install sknetwork, run\n",
    "\n",
    "    $ pip install scikit-network"
   ]
  },
  {
   "cell_type": "code",
   "execution_count": 8,
   "id": "149ed6e5",
   "metadata": {},
   "outputs": [
    {
     "data": {
      "image/svg+xml": [
       "<svg xmlns=\"http://www.w3.org/2000/svg\" width=\"440\" height=\"340\">\n",
       "<defs><marker id=\"arrow-black\" markerWidth=\"10\" markerHeight=\"10\" refX=\"9\" refY=\"3\" orient=\"auto\">\n",
       "<path d=\"M0,0 L0,6 L9,3 z\" fill=\"black\"/></marker></defs>\n",
       "<path stroke-width=\"1.0\" stroke=\"black\" d=\"M 199 208 215 195\" marker-end=\"url(#arrow-black)\"/>\n",
       "<path stroke-width=\"1.0\" stroke=\"black\" d=\"M 354 76 385 47\" marker-end=\"url(#arrow-black)\"/>\n",
       "<path stroke-width=\"1.0\" stroke=\"black\" d=\"M 354 76 344 55\" marker-end=\"url(#arrow-black)\"/>\n",
       "<path stroke-width=\"1.0\" stroke=\"black\" d=\"M 393 152 374 159\" marker-end=\"url(#arrow-black)\"/>\n",
       "<path stroke-width=\"1.0\" stroke=\"black\" d=\"M 393 152 409 170\" marker-end=\"url(#arrow-black)\"/>\n",
       "<path stroke-width=\"1.0\" stroke=\"black\" d=\"M 387 45 396 22\" marker-end=\"url(#arrow-black)\"/>\n",
       "<path stroke-width=\"1.0\" stroke=\"black\" d=\"M 387 45 418 34\" marker-end=\"url(#arrow-black)\"/>\n",
       "<path stroke-width=\"1.0\" stroke=\"black\" d=\"M 246 231 201 233\" marker-end=\"url(#arrow-black)\"/>\n",
       "<path stroke-width=\"1.0\" stroke=\"black\" d=\"M 374 128 403 119\" marker-end=\"url(#arrow-black)\"/>\n",
       "<path stroke-width=\"1.0\" stroke=\"black\" d=\"M 246 231 277 244\" marker-end=\"url(#arrow-black)\"/>\n",
       "<path stroke-width=\"1.0\" stroke=\"black\" d=\"M 199 233 141 252\" marker-end=\"url(#arrow-black)\"/>\n",
       "<path stroke-width=\"1.0\" stroke=\"black\" d=\"M 162 243 141 251\" marker-end=\"url(#arrow-black)\"/>\n",
       "<path stroke-width=\"1.0\" stroke=\"black\" d=\"M 162 243 135 238\" marker-end=\"url(#arrow-black)\"/>\n",
       "<path stroke-width=\"1.0\" stroke=\"black\" d=\"M 139 252 132 292\" marker-end=\"url(#arrow-black)\"/>\n",
       "<path stroke-width=\"1.0\" stroke=\"black\" d=\"M 139 252 84 228\" marker-end=\"url(#arrow-black)\"/>\n",
       "<path stroke-width=\"1.0\" stroke=\"black\" d=\"M 132 294 142 318\" marker-end=\"url(#arrow-black)\"/>\n",
       "<path stroke-width=\"1.0\" stroke=\"black\" d=\"M 132 294 116 316\" marker-end=\"url(#arrow-black)\"/>\n",
       "<path stroke-width=\"1.0\" stroke=\"black\" d=\"M 199 233 164 243\" marker-end=\"url(#arrow-black)\"/>\n",
       "<path stroke-width=\"1.0\" stroke=\"black\" d=\"M 374 128 392 150\" marker-end=\"url(#arrow-black)\"/>\n",
       "<path stroke-width=\"1.0\" stroke=\"black\" d=\"M 330 120 353 78\" marker-end=\"url(#arrow-black)\"/>\n",
       "<path stroke-width=\"1.0\" stroke=\"black\" d=\"M 330 120 372 128\" marker-end=\"url(#arrow-black)\"/>\n",
       "<path stroke-width=\"1.0\" stroke=\"black\" d=\"M 199 208 169 198\" marker-end=\"url(#arrow-black)\"/>\n",
       "<path stroke-width=\"1.0\" stroke=\"black\" d=\"M 217 194 253 181\" marker-end=\"url(#arrow-black)\"/>\n",
       "<path stroke-width=\"1.0\" stroke=\"black\" d=\"M 217 194 243 201\" marker-end=\"url(#arrow-black)\"/>\n",
       "<path stroke-width=\"1.0\" stroke=\"black\" d=\"M 167 198 215 194\" marker-end=\"url(#arrow-black)\"/>\n",
       "<path stroke-width=\"1.0\" stroke=\"black\" d=\"M 167 198 108 196\" marker-end=\"url(#arrow-black)\"/>\n",
       "<path stroke-width=\"1.0\" stroke=\"black\" d=\"M 255 181 246 199\" marker-end=\"url(#arrow-black)\"/>\n",
       "<path stroke-width=\"1.0\" stroke=\"black\" d=\"M 255 181 282 163\" marker-end=\"url(#arrow-black)\"/>\n",
       "<path stroke-width=\"1.0\" stroke=\"black\" d=\"M 245 201 246 229\" marker-end=\"url(#arrow-black)\"/>\n",
       "<path stroke-width=\"1.0\" stroke=\"black\" d=\"M 245 201 201 232\" marker-end=\"url(#arrow-black)\"/>\n",
       "<path stroke-width=\"1.0\" stroke=\"black\" d=\"M 106 196 96 159\" marker-end=\"url(#arrow-black)\"/>\n",
       "<path stroke-width=\"1.0\" stroke=\"black\" d=\"M 106 196 60 227\" marker-end=\"url(#arrow-black)\"/>\n",
       "<path stroke-width=\"1.0\" stroke=\"black\" d=\"M 284 162 247 199\" marker-end=\"url(#arrow-black)\"/>\n",
       "<path stroke-width=\"1.0\" stroke=\"black\" d=\"M 284 162 328 122\" marker-end=\"url(#arrow-black)\"/>\n",
       "<path stroke-width=\"1.0\" stroke=\"black\" d=\"M 96 157 103 134\" marker-end=\"url(#arrow-black)\"/>\n",
       "<path stroke-width=\"1.0\" stroke=\"black\" d=\"M 96 157 77 137\" marker-end=\"url(#arrow-black)\"/>\n",
       "<path stroke-width=\"1.0\" stroke=\"black\" d=\"M 58 228 22 239\" marker-end=\"url(#arrow-black)\"/>\n",
       "<path stroke-width=\"1.0\" stroke=\"black\" d=\"M 58 228 38 252\" marker-end=\"url(#arrow-black)\"/>\n",
       "<path stroke-width=\"1.0\" stroke=\"black\" d=\"M 82 227 41 216\" marker-end=\"url(#arrow-black)\"/>\n",
       "<path stroke-width=\"1.0\" stroke=\"black\" d=\"M 82 227 55 203\" marker-end=\"url(#arrow-black)\"/>\n",
       "<circle cx=\"199\" cy=\"208\" r=\"3.0\" style=\"fill:blue;stroke:black;stroke-width:1.0\"/>\n",
       "<circle cx=\"217\" cy=\"194\" r=\"3.0\" style=\"fill:blue;stroke:black;stroke-width:1.0\"/>\n",
       "<circle cx=\"167\" cy=\"198\" r=\"3.0\" style=\"fill:blue;stroke:black;stroke-width:1.0\"/>\n",
       "<circle cx=\"255\" cy=\"181\" r=\"3.0\" style=\"fill:blue;stroke:black;stroke-width:1.0\"/>\n",
       "<circle cx=\"245\" cy=\"201\" r=\"3.0\" style=\"fill:blue;stroke:black;stroke-width:1.0\"/>\n",
       "<circle cx=\"106\" cy=\"196\" r=\"3.0\" style=\"fill:blue;stroke:black;stroke-width:1.0\"/>\n",
       "<circle cx=\"284\" cy=\"162\" r=\"3.0\" style=\"fill:blue;stroke:black;stroke-width:1.0\"/>\n",
       "<circle cx=\"96\" cy=\"157\" r=\"3.0\" style=\"fill:orange;stroke:black;stroke-width:1.0\"/>\n",
       "<circle cx=\"58\" cy=\"228\" r=\"3.0\" style=\"fill:red;stroke:black;stroke-width:1.0\"/>\n",
       "<circle cx=\"330\" cy=\"120\" r=\"3.0\" style=\"fill:blue;stroke:black;stroke-width:1.0\"/>\n",
       "<circle cx=\"103\" cy=\"132\" r=\"3.0\" style=\"fill:yellow;stroke:black;stroke-width:1.0\"/>\n",
       "<circle cx=\"76\" cy=\"135\" r=\"3.0\" style=\"fill:orange;stroke:black;stroke-width:1.0\"/>\n",
       "<circle cx=\"20\" cy=\"239\" r=\"3.0\" style=\"fill:red;stroke:black;stroke-width:1.0\"/>\n",
       "<circle cx=\"37\" cy=\"254\" r=\"3.0\" style=\"fill:blue;stroke:black;stroke-width:1.0\"/>\n",
       "<circle cx=\"374\" cy=\"128\" r=\"3.0\" style=\"fill:olive;stroke:black;stroke-width:1.0\"/>\n",
       "<circle cx=\"354\" cy=\"76\" r=\"3.0\" style=\"fill:blue;stroke:black;stroke-width:1.0\"/>\n",
       "<circle cx=\"393\" cy=\"152\" r=\"3.0\" style=\"fill:olive;stroke:black;stroke-width:1.0\"/>\n",
       "<circle cx=\"405\" cy=\"119\" r=\"3.0\" style=\"fill:blue;stroke:black;stroke-width:1.0\"/>\n",
       "<circle cx=\"387\" cy=\"45\" r=\"3.0\" style=\"fill:purple;stroke:black;stroke-width:1.0\"/>\n",
       "<circle cx=\"343\" cy=\"53\" r=\"3.0\" style=\"fill:brown;stroke:black;stroke-width:1.0\"/>\n",
       "<circle cx=\"246\" cy=\"231\" r=\"3.0\" style=\"fill:blue;stroke:black;stroke-width:1.0\"/>\n",
       "<circle cx=\"199\" cy=\"233\" r=\"3.0\" style=\"fill:blue;stroke:black;stroke-width:1.0\"/>\n",
       "<circle cx=\"372\" cy=\"159\" r=\"3.0\" style=\"fill:olive;stroke:black;stroke-width:1.0\"/>\n",
       "<circle cx=\"411\" cy=\"172\" r=\"3.0\" style=\"fill:blue;stroke:black;stroke-width:1.0\"/>\n",
       "<circle cx=\"396\" cy=\"20\" r=\"3.0\" style=\"fill:purple;stroke:black;stroke-width:1.0\"/>\n",
       "<circle cx=\"420\" cy=\"34\" r=\"3.0\" style=\"fill:fuchsia;stroke:black;stroke-width:1.0\"/>\n",
       "<circle cx=\"279\" cy=\"245\" r=\"3.0\" style=\"fill:blue;stroke:black;stroke-width:1.0\"/>\n",
       "<circle cx=\"162\" cy=\"243\" r=\"3.0\" style=\"fill:green;stroke:black;stroke-width:1.0\"/>\n",
       "<circle cx=\"139\" cy=\"252\" r=\"3.0\" style=\"fill:blue;stroke:black;stroke-width:1.0\"/>\n",
       "<circle cx=\"133\" cy=\"238\" r=\"3.0\" style=\"fill:green;stroke:black;stroke-width:1.0\"/>\n",
       "<circle cx=\"132\" cy=\"294\" r=\"3.0\" style=\"fill:fuchsia;stroke:black;stroke-width:1.0\"/>\n",
       "<circle cx=\"82\" cy=\"227\" r=\"3.0\" style=\"fill:aqua;stroke:black;stroke-width:1.0\"/>\n",
       "<circle cx=\"143\" cy=\"320\" r=\"3.0\" style=\"fill:fuchsia;stroke:black;stroke-width:1.0\"/>\n",
       "<circle cx=\"115\" cy=\"318\" r=\"3.0\" style=\"fill:blue;stroke:black;stroke-width:1.0\"/>\n",
       "<circle cx=\"39\" cy=\"216\" r=\"3.0\" style=\"fill:yellow;stroke:black;stroke-width:1.0\"/>\n",
       "<circle cx=\"53\" cy=\"202\" r=\"3.0\" style=\"fill:aqua;stroke:black;stroke-width:1.0\"/>\n",
       "</svg>"
      ],
      "text/plain": [
       "<IPython.core.display.SVG object>"
      ]
     },
     "execution_count": 8,
     "metadata": {},
     "output_type": "execute_result"
    }
   ],
   "source": [
    "# load pretrained model\n",
    "import pickle\n",
    "with open(\"model/MNIST_ccp_1e-2.pkl\",'rb') as infile:\n",
    "    file = pickle.load(infile)\n",
    "tnt, X, y = file['model'], x_train, y_train\n",
    "\n",
    "# visualize TnT\n",
    "from IPython.display import SVG\n",
    "from TreeInTree import visTnT\n",
    "image = visTnT(tnt, X, y, scale=1, edge_width=1, node_size=3)\n",
    "SVG(image)"
   ]
  },
  {
   "cell_type": "markdown",
   "id": "e7a89a8c",
   "metadata": {},
   "source": [
    "##  Performance of CART \n",
    "\n",
    "Console should print the following results:\n",
    "\n",
    "    CART accuracy (train set): 0.9357\n",
    "    CART accuracy (test set): 0.883\n",
    "    CART model complexity:  1019  internal nodes,  1020  leaf nodes\n"
   ]
  },
  {
   "cell_type": "code",
   "execution_count": 4,
   "id": "a7c816c1",
   "metadata": {},
   "outputs": [
    {
     "name": "stdout",
     "output_type": "stream",
     "text": [
      "CART accuracy (train set): 0.6468\n",
      "CART accuracy (test set): 0.6512\n",
      "CART model complexity:  20  internal nodes,  21  leaf nodes\n"
     ]
    }
   ],
   "source": [
    "from sklearn.tree import DecisionTreeClassifier\n",
    "cart = DecisionTreeClassifier(max_leaf_nodes=i+1, random_state=0)\n",
    "cart.fit(x_train, y_train)\n",
    "prediction_train = cart.predict(x_train)\n",
    "accuracy_train = accuracy_score(y_train, prediction_train)\n",
    "print(\"CART accuracy (train set):\", accuracy_train)\n",
    "prediction_test = cart.predict(x_test)\n",
    "accuracy_test = accuracy_score(y_test, prediction_test)\n",
    "print(\"CART accuracy (test set):\", accuracy_test)\n",
    "print(\"CART model complexity: \", i, \" internal nodes, \", i+1, \" leaf nodes\")"
   ]
  },
  {
   "cell_type": "markdown",
   "id": "befb0986",
   "metadata": {},
   "source": [
    "##  Performance of TnT ensemble \n",
    "\n",
    "Console should print the following results:\n",
    "\n",
    "    TnT-bagging accuracy (test set): 0.9037\n",
    "    TnT-bagging model complexity:  11022  internal nodes,  7270  leaf nodes"
   ]
  },
  {
   "cell_type": "code",
   "execution_count": 11,
   "id": "08ef14bd",
   "metadata": {},
   "outputs": [
    {
     "name": "stdout",
     "output_type": "stream",
     "text": [
      "TnT-bagging accuracy (test set): 0.9487\n",
      "TnT-bagging model complexity:  11022  internal nodes,  7270  leaf nodes\n"
     ]
    }
   ],
   "source": [
    "from sklearn.ensemble import BaggingClassifier\n",
    "tnt_bagging = BaggingClassifier(base_estimator=TnT(N1=2, N2=5, ccp_alpha=1e-4), n_estimators=10,n_jobs=-1,random_state=0)\n",
    "tnt_bagging.fit(x_train, y_train)\n",
    "prediction_test = tnt_bagging.predict(x_test)\n",
    "accuracy_test = accuracy_score(y_test, prediction_test)\n",
    "print(\"TnT-bagging accuracy (test set):\", accuracy_test)\n",
    "\n",
    "i, l = 0, 0\n",
    "for tee in range(len(tnt_bagging.estimators_)):\n",
    "    i_temp, l_temp = tnt_bagging.estimators_[tee].check_complexity()\n",
    "    i += i_temp\n",
    "    l += l_temp\n",
    "print(\"TnT-bagging model complexity: \", i, \" internal nodes, \", l, \" leaf nodes\")"
   ]
  },
  {
   "cell_type": "markdown",
   "id": "cc1d6911",
   "metadata": {},
   "source": [
    "## Performance of CART ensemble \n",
    "\n",
    "Console should print the following results:\n",
    "\n",
    "    Random Forest accuracy (test set): 0.9037\n",
    "    Random Forest model complexity:  1019  internal nodes,  635  leaf nodes\n"
   ]
  },
  {
   "cell_type": "code",
   "execution_count": 10,
   "id": "4c1cebfc",
   "metadata": {},
   "outputs": [
    {
     "name": "stdout",
     "output_type": "stream",
     "text": [
      "Random Forest accuracy (test set): 0.9444\n",
      "Random Forest model complexity:  29219  internal nodes,  29229  leaf nodes\n"
     ]
    }
   ],
   "source": [
    "RandomForest = BaggingClassifier(base_estimator=DecisionTreeClassifier(), n_estimators=10,n_jobs=-1,random_state=0)\n",
    "RandomForest.fit(x_train, y_train)\n",
    "prediction_test = RandomForest.predict(x_test)\n",
    "accuracy_test = accuracy_score(y_test, prediction_test)\n",
    "print(\"Random Forest accuracy (test set):\", accuracy_test)\n",
    "i, l = 0, 0\n",
    "for tee in range(len(RandomForest.estimators_)):\n",
    "        capacity = RandomForest.estimators_[tee].tree_.capacity\n",
    "        i += int(capacity / 2)\n",
    "        l += int(capacity / 2)+1\n",
    "print(\"Random Forest model complexity: \", i, \" internal nodes, \", l, \" leaf nodes\")"
   ]
  },
  {
   "cell_type": "code",
   "execution_count": 5,
   "id": "01c6cb0a",
   "metadata": {},
   "outputs": [],
   "source": [
    "import pickle\n",
    "with open(\"model/MNIST_ccp_1e-2.pkl\",'rb') as infile:\n",
    "    file = pickle.load(infile)\n",
    "with open('model/MNIST_ccp_1e-2.pkl', 'wb') as outfile:\n",
    "    # A new file will be created\n",
    "    pickle.dump({'model':file['model']}, outfile)"
   ]
  },
  {
   "cell_type": "code",
   "execution_count": null,
   "id": "1a71723f",
   "metadata": {},
   "outputs": [],
   "source": []
  }
 ],
 "metadata": {
  "kernelspec": {
   "display_name": "Python 3",
   "language": "python",
   "name": "python3"
  },
  "language_info": {
   "codemirror_mode": {
    "name": "ipython",
    "version": 3
   },
   "file_extension": ".py",
   "mimetype": "text/x-python",
   "name": "python",
   "nbconvert_exporter": "python",
   "pygments_lexer": "ipython3",
   "version": "3.8.8"
  }
 },
 "nbformat": 4,
 "nbformat_minor": 5
}
