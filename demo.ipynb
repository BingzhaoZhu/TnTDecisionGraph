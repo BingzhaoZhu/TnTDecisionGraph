{
 "cells": [
  {
   "cell_type": "code",
   "execution_count": 6,
   "id": "f1080d26",
   "metadata": {},
   "outputs": [],
   "source": [
    "# load dataset\n",
    "import tensorflow as tf\n",
    "(x_train, y_train), (x_test, y_test) = tf.keras.datasets.mnist.load_data()\n",
    "x_train=x_train.reshape(x_train.shape[0], -1)\n",
    "x_test=x_test.reshape(x_test.shape[0], -1)"
   ]
  },
  {
   "cell_type": "markdown",
   "id": "5eb29269",
   "metadata": {},
   "source": [
    "## Performance of TnT\n",
    "\n",
    "This code takes ~5 mins to run. To reduce runtime, use greater ccp_alpha values (1e-3/1e-2).\n",
    "\n",
    "Console should print the following results:\n",
    "\n",
    "    TnT accuracy (train set): 0.9591\n",
    "    TnT accuracy (test set): 0.9037\n",
    "    TnT model complexity:  1019  internal nodes,  635  leaf nodes"
   ]
  },
  {
   "cell_type": "code",
   "execution_count": 7,
   "id": "9778ee29",
   "metadata": {},
   "outputs": [
    {
     "name": "stdout",
     "output_type": "stream",
     "text": [
      "TnT accuracy (train set): 0.9611166666666666\n",
      "TnT accuracy (test set): 0.9063\n",
      "TnT model complexity:  1020  internal nodes,  619  leaf nodes\n"
     ]
    }
   ],
   "source": [
    "from TreeInTree import TnT\n",
    "from sklearn.metrics import accuracy_score\n",
    "tnt = TnT(N1=2, N2=5, ccp_alpha=1e-4, random_state=0)\n",
    "tnt.fit(x_train, y_train)\n",
    "prediction_train = tnt.predict(teX=x_train)\n",
    "accuracy_train = accuracy_score(y_train, prediction_train)\n",
    "print(\"TnT accuracy (train set):\", accuracy_train)\n",
    "prediction_test = tnt.predict(teX=x_test)\n",
    "accuracy_test = accuracy_score(y_test, prediction_test)\n",
    "print(\"TnT accuracy (test set):\", accuracy_test)\n",
    "i, l = tnt.check_complexity()\n",
    "print(\"TnT model complexity: \", i, \" internal nodes, \", l, \" leaf nodes\")"
   ]
  },
  {
   "cell_type": "markdown",
   "id": "bce609be",
   "metadata": {},
   "source": [
    "## Visualization of TnT\n",
    "\n",
    "Visualize TnT as a directed graph using \"sknetwork\". To install sknetwork, run\n",
    "\n",
    "    $ pip install scikit-network"
   ]
  },
  {
   "cell_type": "code",
   "execution_count": 2,
   "id": "149ed6e5",
   "metadata": {},
   "outputs": [
    {
     "data": {
      "image/svg+xml": [
       "<svg xmlns=\"http://www.w3.org/2000/svg\" width=\"440\" height=\"340\">\n",
       "<defs><marker id=\"arrow-black\" markerWidth=\"10\" markerHeight=\"10\" refX=\"9\" refY=\"3\" orient=\"auto\">\n",
       "<path d=\"M0,0 L0,6 L9,3 z\" fill=\"black\"/></marker></defs>\n",
       "<path stroke-width=\"1.0\" stroke=\"black\" d=\"M 230 301 205 275\" marker-end=\"url(#arrow-black)\"/>\n",
       "<path stroke-width=\"1.0\" stroke=\"black\" d=\"M 188 107 235 81\" marker-end=\"url(#arrow-black)\"/>\n",
       "<path stroke-width=\"1.0\" stroke=\"black\" d=\"M 188 107 167 120\" marker-end=\"url(#arrow-black)\"/>\n",
       "<path stroke-width=\"1.0\" stroke=\"black\" d=\"M 199 116 232 119\" marker-end=\"url(#arrow-black)\"/>\n",
       "<path stroke-width=\"1.0\" stroke=\"black\" d=\"M 199 116 216 140\" marker-end=\"url(#arrow-black)\"/>\n",
       "<path stroke-width=\"1.0\" stroke=\"black\" d=\"M 237 80 272 80\" marker-end=\"url(#arrow-black)\"/>\n",
       "<path stroke-width=\"1.0\" stroke=\"black\" d=\"M 237 80 262 56\" marker-end=\"url(#arrow-black)\"/>\n",
       "<path stroke-width=\"1.0\" stroke=\"black\" d=\"M 117 236 119 187\" marker-end=\"url(#arrow-black)\"/>\n",
       "<path stroke-width=\"1.0\" stroke=\"black\" d=\"M 152 99 123 63\" marker-end=\"url(#arrow-black)\"/>\n",
       "<path stroke-width=\"1.0\" stroke=\"black\" d=\"M 117 236 106 274\" marker-end=\"url(#arrow-black)\"/>\n",
       "<path stroke-width=\"1.0\" stroke=\"black\" d=\"M 119 185 118 123\" marker-end=\"url(#arrow-black)\"/>\n",
       "<path stroke-width=\"1.0\" stroke=\"black\" d=\"M 96 143 116 123\" marker-end=\"url(#arrow-black)\"/>\n",
       "<path stroke-width=\"1.0\" stroke=\"black\" d=\"M 96 143 72 111\" marker-end=\"url(#arrow-black)\"/>\n",
       "<path stroke-width=\"1.0\" stroke=\"black\" d=\"M 118 121 170 62\" marker-end=\"url(#arrow-black)\"/>\n",
       "<path stroke-width=\"1.0\" stroke=\"black\" d=\"M 118 121 60 131\" marker-end=\"url(#arrow-black)\"/>\n",
       "<path stroke-width=\"1.0\" stroke=\"black\" d=\"M 172 60 198 22\" marker-end=\"url(#arrow-black)\"/>\n",
       "<path stroke-width=\"1.0\" stroke=\"black\" d=\"M 172 60 214 34\" marker-end=\"url(#arrow-black)\"/>\n",
       "<path stroke-width=\"1.0\" stroke=\"black\" d=\"M 119 185 97 145\" marker-end=\"url(#arrow-black)\"/>\n",
       "<path stroke-width=\"1.0\" stroke=\"black\" d=\"M 152 99 197 116\" marker-end=\"url(#arrow-black)\"/>\n",
       "<path stroke-width=\"1.0\" stroke=\"black\" d=\"M 159 146 187 109\" marker-end=\"url(#arrow-black)\"/>\n",
       "<path stroke-width=\"1.0\" stroke=\"black\" d=\"M 159 146 152 101\" marker-end=\"url(#arrow-black)\"/>\n",
       "<path stroke-width=\"1.0\" stroke=\"black\" d=\"M 230 301 260 292\" marker-end=\"url(#arrow-black)\"/>\n",
       "<path stroke-width=\"1.0\" stroke=\"black\" d=\"M 204 273 174 250\" marker-end=\"url(#arrow-black)\"/>\n",
       "<path stroke-width=\"1.0\" stroke=\"black\" d=\"M 204 273 155 235\" marker-end=\"url(#arrow-black)\"/>\n",
       "<path stroke-width=\"1.0\" stroke=\"black\" d=\"M 262 292 206 273\" marker-end=\"url(#arrow-black)\"/>\n",
       "<path stroke-width=\"1.0\" stroke=\"black\" d=\"M 262 292 326 292\" marker-end=\"url(#arrow-black)\"/>\n",
       "<path stroke-width=\"1.0\" stroke=\"black\" d=\"M 172 249 155 235\" marker-end=\"url(#arrow-black)\"/>\n",
       "<path stroke-width=\"1.0\" stroke=\"black\" d=\"M 172 249 157 207\" marker-end=\"url(#arrow-black)\"/>\n",
       "<path stroke-width=\"1.0\" stroke=\"black\" d=\"M 153 234 119 236\" marker-end=\"url(#arrow-black)\"/>\n",
       "<path stroke-width=\"1.0\" stroke=\"black\" d=\"M 153 234 120 187\" marker-end=\"url(#arrow-black)\"/>\n",
       "<path stroke-width=\"1.0\" stroke=\"black\" d=\"M 328 292 380 300\" marker-end=\"url(#arrow-black)\"/>\n",
       "<path stroke-width=\"1.0\" stroke=\"black\" d=\"M 328 292 360 267\" marker-end=\"url(#arrow-black)\"/>\n",
       "<path stroke-width=\"1.0\" stroke=\"black\" d=\"M 157 205 153 232\" marker-end=\"url(#arrow-black)\"/>\n",
       "<path stroke-width=\"1.0\" stroke=\"black\" d=\"M 157 205 159 148\" marker-end=\"url(#arrow-black)\"/>\n",
       "<path stroke-width=\"1.0\" stroke=\"black\" d=\"M 382 300 408 319\" marker-end=\"url(#arrow-black)\"/>\n",
       "<path stroke-width=\"1.0\" stroke=\"black\" d=\"M 382 300 418 285\" marker-end=\"url(#arrow-black)\"/>\n",
       "<path stroke-width=\"1.0\" stroke=\"black\" d=\"M 362 266 370 239\" marker-end=\"url(#arrow-black)\"/>\n",
       "<path stroke-width=\"1.0\" stroke=\"black\" d=\"M 362 266 392 258\" marker-end=\"url(#arrow-black)\"/>\n",
       "<path stroke-width=\"1.0\" stroke=\"black\" d=\"M 58 131 29 152\" marker-end=\"url(#arrow-black)\"/>\n",
       "<path stroke-width=\"1.0\" stroke=\"black\" d=\"M 58 131 22 124\" marker-end=\"url(#arrow-black)\"/>\n",
       "<circle cx=\"230\" cy=\"301\" r=\"3.0\" style=\"fill:blue;stroke:black;stroke-width:1.0\"/>\n",
       "<circle cx=\"204\" cy=\"273\" r=\"3.0\" style=\"fill:blue;stroke:black;stroke-width:1.0\"/>\n",
       "<circle cx=\"262\" cy=\"292\" r=\"3.0\" style=\"fill:blue;stroke:black;stroke-width:1.0\"/>\n",
       "<circle cx=\"172\" cy=\"249\" r=\"3.0\" style=\"fill:blue;stroke:black;stroke-width:1.0\"/>\n",
       "<circle cx=\"153\" cy=\"234\" r=\"3.0\" style=\"fill:blue;stroke:black;stroke-width:1.0\"/>\n",
       "<circle cx=\"328\" cy=\"292\" r=\"3.0\" style=\"fill:blue;stroke:black;stroke-width:1.0\"/>\n",
       "<circle cx=\"157\" cy=\"205\" r=\"3.0\" style=\"fill:blue;stroke:black;stroke-width:1.0\"/>\n",
       "<circle cx=\"382\" cy=\"300\" r=\"3.0\" style=\"fill:orange;stroke:black;stroke-width:1.0\"/>\n",
       "<circle cx=\"362\" cy=\"266\" r=\"3.0\" style=\"fill:red;stroke:black;stroke-width:1.0\"/>\n",
       "<circle cx=\"159\" cy=\"146\" r=\"3.0\" style=\"fill:blue;stroke:black;stroke-width:1.0\"/>\n",
       "<circle cx=\"410\" cy=\"320\" r=\"3.0\" style=\"fill:yellow;stroke:black;stroke-width:1.0\"/>\n",
       "<circle cx=\"420\" cy=\"284\" r=\"3.0\" style=\"fill:orange;stroke:black;stroke-width:1.0\"/>\n",
       "<circle cx=\"370\" cy=\"237\" r=\"3.0\" style=\"fill:red;stroke:black;stroke-width:1.0\"/>\n",
       "<circle cx=\"394\" cy=\"258\" r=\"3.0\" style=\"fill:blue;stroke:black;stroke-width:1.0\"/>\n",
       "<circle cx=\"152\" cy=\"99\" r=\"3.0\" style=\"fill:olive;stroke:black;stroke-width:1.0\"/>\n",
       "<circle cx=\"188\" cy=\"107\" r=\"3.0\" style=\"fill:blue;stroke:black;stroke-width:1.0\"/>\n",
       "<circle cx=\"199\" cy=\"116\" r=\"3.0\" style=\"fill:olive;stroke:black;stroke-width:1.0\"/>\n",
       "<circle cx=\"122\" cy=\"61\" r=\"3.0\" style=\"fill:blue;stroke:black;stroke-width:1.0\"/>\n",
       "<circle cx=\"237\" cy=\"80\" r=\"3.0\" style=\"fill:purple;stroke:black;stroke-width:1.0\"/>\n",
       "<circle cx=\"165\" cy=\"121\" r=\"3.0\" style=\"fill:brown;stroke:black;stroke-width:1.0\"/>\n",
       "<circle cx=\"117\" cy=\"236\" r=\"3.0\" style=\"fill:blue;stroke:black;stroke-width:1.0\"/>\n",
       "<circle cx=\"119\" cy=\"185\" r=\"3.0\" style=\"fill:blue;stroke:black;stroke-width:1.0\"/>\n",
       "<circle cx=\"234\" cy=\"119\" r=\"3.0\" style=\"fill:olive;stroke:black;stroke-width:1.0\"/>\n",
       "<circle cx=\"217\" cy=\"142\" r=\"3.0\" style=\"fill:blue;stroke:black;stroke-width:1.0\"/>\n",
       "<circle cx=\"274\" cy=\"80\" r=\"3.0\" style=\"fill:purple;stroke:black;stroke-width:1.0\"/>\n",
       "<circle cx=\"264\" cy=\"54\" r=\"3.0\" style=\"fill:fuchsia;stroke:black;stroke-width:1.0\"/>\n",
       "<circle cx=\"106\" cy=\"276\" r=\"3.0\" style=\"fill:blue;stroke:black;stroke-width:1.0\"/>\n",
       "<circle cx=\"96\" cy=\"143\" r=\"3.0\" style=\"fill:green;stroke:black;stroke-width:1.0\"/>\n",
       "<circle cx=\"118\" cy=\"121\" r=\"3.0\" style=\"fill:blue;stroke:black;stroke-width:1.0\"/>\n",
       "<circle cx=\"71\" cy=\"109\" r=\"3.0\" style=\"fill:green;stroke:black;stroke-width:1.0\"/>\n",
       "<circle cx=\"172\" cy=\"60\" r=\"3.0\" style=\"fill:fuchsia;stroke:black;stroke-width:1.0\"/>\n",
       "<circle cx=\"58\" cy=\"131\" r=\"3.0\" style=\"fill:aqua;stroke:black;stroke-width:1.0\"/>\n",
       "<circle cx=\"199\" cy=\"20\" r=\"3.0\" style=\"fill:fuchsia;stroke:black;stroke-width:1.0\"/>\n",
       "<circle cx=\"216\" cy=\"33\" r=\"3.0\" style=\"fill:blue;stroke:black;stroke-width:1.0\"/>\n",
       "<circle cx=\"27\" cy=\"153\" r=\"3.0\" style=\"fill:yellow;stroke:black;stroke-width:1.0\"/>\n",
       "<circle cx=\"20\" cy=\"124\" r=\"3.0\" style=\"fill:aqua;stroke:black;stroke-width:1.0\"/>\n",
       "</svg>"
      ],
      "text/plain": [
       "<IPython.core.display.SVG object>"
      ]
     },
     "execution_count": 2,
     "metadata": {},
     "output_type": "execute_result"
    }
   ],
   "source": [
    "# load pretrained model\n",
    "import pickle\n",
    "infile = open(\"model/MNIST_ccp_1e-2.pkl\",'rb')\n",
    "file = pickle.load(infile)\n",
    "infile.close()\n",
    "tnt, X, y = file['model'], file['x_train'], file['y_train'], \n",
    "\n",
    "# visualize TnT\n",
    "from IPython.display import SVG\n",
    "from TreeInTree import visTnT\n",
    "image = visTnT(tnt, X, y, scale=1, edge_width=1, node_size=3)\n",
    "SVG(image)"
   ]
  },
  {
   "cell_type": "markdown",
   "id": "e7a89a8c",
   "metadata": {},
   "source": [
    "##  Performance of CART \n",
    "\n",
    "Console should print the following results:\n",
    "\n",
    "    CART accuracy (train set): 0.9357\n",
    "    CART accuracy (test set): 0.883\n",
    "    CART model complexity:  1019  internal nodes,  1020  leaf nodes\n"
   ]
  },
  {
   "cell_type": "code",
   "execution_count": 4,
   "id": "a7c816c1",
   "metadata": {},
   "outputs": [
    {
     "name": "stdout",
     "output_type": "stream",
     "text": [
      "CART accuracy (train set): 0.6468\n",
      "CART accuracy (test set): 0.6512\n",
      "CART model complexity:  20  internal nodes,  21  leaf nodes\n"
     ]
    }
   ],
   "source": [
    "from sklearn.tree import DecisionTreeClassifier\n",
    "cart = DecisionTreeClassifier(max_leaf_nodes=i+1, random_state=0)\n",
    "cart.fit(x_train, y_train)\n",
    "prediction_train = cart.predict(x_train)\n",
    "accuracy_train = accuracy_score(y_train, prediction_train)\n",
    "print(\"CART accuracy (train set):\", accuracy_train)\n",
    "prediction_test = cart.predict(x_test)\n",
    "accuracy_test = accuracy_score(y_test, prediction_test)\n",
    "print(\"CART accuracy (test set):\", accuracy_test)\n",
    "print(\"CART model complexity: \", i, \" internal nodes, \", i+1, \" leaf nodes\")"
   ]
  },
  {
   "cell_type": "markdown",
   "id": "befb0986",
   "metadata": {},
   "source": [
    "##  Performance of TnT ensemble \n",
    "\n",
    "Console should print the following results:\n",
    "\n",
    "    TnT-bagging accuracy (test set): 0.9037\n",
    "    TnT-bagging model complexity:  11022  internal nodes,  7270  leaf nodes"
   ]
  },
  {
   "cell_type": "code",
   "execution_count": 11,
   "id": "08ef14bd",
   "metadata": {},
   "outputs": [
    {
     "name": "stdout",
     "output_type": "stream",
     "text": [
      "TnT-bagging accuracy (test set): 0.9487\n",
      "TnT-bagging model complexity:  11022  internal nodes,  7270  leaf nodes\n"
     ]
    }
   ],
   "source": [
    "from sklearn.ensemble import BaggingClassifier\n",
    "tnt_bagging = BaggingClassifier(base_estimator=TnT(N1=2, N2=5, ccp_alpha=1e-4), n_estimators=10,n_jobs=-1,random_state=0)\n",
    "tnt_bagging.fit(x_train, y_train)\n",
    "prediction_test = tnt_bagging.predict(x_test)\n",
    "accuracy_test = accuracy_score(y_test, prediction_test)\n",
    "print(\"TnT-bagging accuracy (test set):\", accuracy_test)\n",
    "\n",
    "i, l = 0, 0\n",
    "for tee in range(len(tnt_bagging.estimators_)):\n",
    "    i_temp, l_temp = tnt_bagging.estimators_[tee].check_complexity()\n",
    "    i += i_temp\n",
    "    l += l_temp\n",
    "print(\"TnT-bagging model complexity: \", i, \" internal nodes, \", l, \" leaf nodes\")"
   ]
  },
  {
   "cell_type": "markdown",
   "id": "cc1d6911",
   "metadata": {},
   "source": [
    "## Performance of CART ensemble \n",
    "\n",
    "Console should print the following results:\n",
    "\n",
    "    Random Forest accuracy (test set): 0.9037\n",
    "    Random Forest model complexity:  1019  internal nodes,  635  leaf nodes\n"
   ]
  },
  {
   "cell_type": "code",
   "execution_count": 10,
   "id": "4c1cebfc",
   "metadata": {},
   "outputs": [
    {
     "name": "stdout",
     "output_type": "stream",
     "text": [
      "Random Forest accuracy (test set): 0.9444\n",
      "Random Forest model complexity:  29219  internal nodes,  29229  leaf nodes\n"
     ]
    }
   ],
   "source": [
    "RandomForest = BaggingClassifier(base_estimator=DecisionTreeClassifier(), n_estimators=10,n_jobs=-1,random_state=0)\n",
    "RandomForest.fit(x_train, y_train)\n",
    "prediction_test = RandomForest.predict(x_test)\n",
    "accuracy_test = accuracy_score(y_test, prediction_test)\n",
    "print(\"Random Forest accuracy (test set):\", accuracy_test)\n",
    "i, l = 0, 0\n",
    "for tee in range(len(RandomForest.estimators_)):\n",
    "        capacity = RandomForest.estimators_[tee].tree_.capacity\n",
    "        i += int(capacity / 2)\n",
    "        l += int(capacity / 2)+1\n",
    "print(\"Random Forest model complexity: \", i, \" internal nodes, \", l, \" leaf nodes\")"
   ]
  },
  {
   "cell_type": "code",
   "execution_count": null,
   "id": "01c6cb0a",
   "metadata": {},
   "outputs": [],
   "source": []
  }
 ],
 "metadata": {
  "kernelspec": {
   "display_name": "Python 3",
   "language": "python",
   "name": "python3"
  },
  "language_info": {
   "codemirror_mode": {
    "name": "ipython",
    "version": 3
   },
   "file_extension": ".py",
   "mimetype": "text/x-python",
   "name": "python",
   "nbconvert_exporter": "python",
   "pygments_lexer": "ipython3",
   "version": "3.8.8"
  }
 },
 "nbformat": 4,
 "nbformat_minor": 5
}
